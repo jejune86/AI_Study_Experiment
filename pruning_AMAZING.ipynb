{
  "nbformat": 4,
  "nbformat_minor": 0,
  "metadata": {
    "colab": {
      "provenance": [],
      "gpuType": "T4"
    },
    "kernelspec": {
      "name": "python3",
      "display_name": "Python 3"
    },
    "language_info": {
      "name": "python"
    },
    "accelerator": "GPU",
    "widgets": {
      "application/vnd.jupyter.widget-state+json": {
        "009229a480c3481b8eae2bdfffc5eba7": {
          "model_module": "@jupyter-widgets/controls",
          "model_name": "HBoxModel",
          "model_module_version": "1.5.0",
          "state": {
            "_dom_classes": [],
            "_model_module": "@jupyter-widgets/controls",
            "_model_module_version": "1.5.0",
            "_model_name": "HBoxModel",
            "_view_count": null,
            "_view_module": "@jupyter-widgets/controls",
            "_view_module_version": "1.5.0",
            "_view_name": "HBoxView",
            "box_style": "",
            "children": [
              "IPY_MODEL_47fb26a3a7d340aaabd87422cd30349a",
              "IPY_MODEL_97e53b940f7a4befb46a50ac1b6945ee",
              "IPY_MODEL_c396f8c6a12d4853b45354d01adc042f"
            ],
            "layout": "IPY_MODEL_8c3b08fb59f847798ba889ade6fdaf3b"
          }
        },
        "47fb26a3a7d340aaabd87422cd30349a": {
          "model_module": "@jupyter-widgets/controls",
          "model_name": "HTMLModel",
          "model_module_version": "1.5.0",
          "state": {
            "_dom_classes": [],
            "_model_module": "@jupyter-widgets/controls",
            "_model_module_version": "1.5.0",
            "_model_name": "HTMLModel",
            "_view_count": null,
            "_view_module": "@jupyter-widgets/controls",
            "_view_module_version": "1.5.0",
            "_view_name": "HTMLView",
            "description": "",
            "description_tooltip": null,
            "layout": "IPY_MODEL_7cc165810e7b434eb7d021b28d21646e",
            "placeholder": "​",
            "style": "IPY_MODEL_73c7a42f252f444fb5ba83063420e114",
            "value": "Map: 100%"
          }
        },
        "97e53b940f7a4befb46a50ac1b6945ee": {
          "model_module": "@jupyter-widgets/controls",
          "model_name": "FloatProgressModel",
          "model_module_version": "1.5.0",
          "state": {
            "_dom_classes": [],
            "_model_module": "@jupyter-widgets/controls",
            "_model_module_version": "1.5.0",
            "_model_name": "FloatProgressModel",
            "_view_count": null,
            "_view_module": "@jupyter-widgets/controls",
            "_view_module_version": "1.5.0",
            "_view_name": "ProgressView",
            "bar_style": "success",
            "description": "",
            "description_tooltip": null,
            "layout": "IPY_MODEL_a7aaf87972794465a3dbc1ac663c6801",
            "max": 120000,
            "min": 0,
            "orientation": "horizontal",
            "style": "IPY_MODEL_ec1e4fe40dad4c69ac62c0f8573d2864",
            "value": 120000
          }
        },
        "c396f8c6a12d4853b45354d01adc042f": {
          "model_module": "@jupyter-widgets/controls",
          "model_name": "HTMLModel",
          "model_module_version": "1.5.0",
          "state": {
            "_dom_classes": [],
            "_model_module": "@jupyter-widgets/controls",
            "_model_module_version": "1.5.0",
            "_model_name": "HTMLModel",
            "_view_count": null,
            "_view_module": "@jupyter-widgets/controls",
            "_view_module_version": "1.5.0",
            "_view_name": "HTMLView",
            "description": "",
            "description_tooltip": null,
            "layout": "IPY_MODEL_c78f10c03c8c4316a2c9056b609bae00",
            "placeholder": "​",
            "style": "IPY_MODEL_0a0722771237462c8267d489a9bb3883",
            "value": " 120000/120000 [00:26&lt;00:00, 4913.78 examples/s]"
          }
        },
        "8c3b08fb59f847798ba889ade6fdaf3b": {
          "model_module": "@jupyter-widgets/base",
          "model_name": "LayoutModel",
          "model_module_version": "1.2.0",
          "state": {
            "_model_module": "@jupyter-widgets/base",
            "_model_module_version": "1.2.0",
            "_model_name": "LayoutModel",
            "_view_count": null,
            "_view_module": "@jupyter-widgets/base",
            "_view_module_version": "1.2.0",
            "_view_name": "LayoutView",
            "align_content": null,
            "align_items": null,
            "align_self": null,
            "border": null,
            "bottom": null,
            "display": null,
            "flex": null,
            "flex_flow": null,
            "grid_area": null,
            "grid_auto_columns": null,
            "grid_auto_flow": null,
            "grid_auto_rows": null,
            "grid_column": null,
            "grid_gap": null,
            "grid_row": null,
            "grid_template_areas": null,
            "grid_template_columns": null,
            "grid_template_rows": null,
            "height": null,
            "justify_content": null,
            "justify_items": null,
            "left": null,
            "margin": null,
            "max_height": null,
            "max_width": null,
            "min_height": null,
            "min_width": null,
            "object_fit": null,
            "object_position": null,
            "order": null,
            "overflow": null,
            "overflow_x": null,
            "overflow_y": null,
            "padding": null,
            "right": null,
            "top": null,
            "visibility": null,
            "width": null
          }
        },
        "7cc165810e7b434eb7d021b28d21646e": {
          "model_module": "@jupyter-widgets/base",
          "model_name": "LayoutModel",
          "model_module_version": "1.2.0",
          "state": {
            "_model_module": "@jupyter-widgets/base",
            "_model_module_version": "1.2.0",
            "_model_name": "LayoutModel",
            "_view_count": null,
            "_view_module": "@jupyter-widgets/base",
            "_view_module_version": "1.2.0",
            "_view_name": "LayoutView",
            "align_content": null,
            "align_items": null,
            "align_self": null,
            "border": null,
            "bottom": null,
            "display": null,
            "flex": null,
            "flex_flow": null,
            "grid_area": null,
            "grid_auto_columns": null,
            "grid_auto_flow": null,
            "grid_auto_rows": null,
            "grid_column": null,
            "grid_gap": null,
            "grid_row": null,
            "grid_template_areas": null,
            "grid_template_columns": null,
            "grid_template_rows": null,
            "height": null,
            "justify_content": null,
            "justify_items": null,
            "left": null,
            "margin": null,
            "max_height": null,
            "max_width": null,
            "min_height": null,
            "min_width": null,
            "object_fit": null,
            "object_position": null,
            "order": null,
            "overflow": null,
            "overflow_x": null,
            "overflow_y": null,
            "padding": null,
            "right": null,
            "top": null,
            "visibility": null,
            "width": null
          }
        },
        "73c7a42f252f444fb5ba83063420e114": {
          "model_module": "@jupyter-widgets/controls",
          "model_name": "DescriptionStyleModel",
          "model_module_version": "1.5.0",
          "state": {
            "_model_module": "@jupyter-widgets/controls",
            "_model_module_version": "1.5.0",
            "_model_name": "DescriptionStyleModel",
            "_view_count": null,
            "_view_module": "@jupyter-widgets/base",
            "_view_module_version": "1.2.0",
            "_view_name": "StyleView",
            "description_width": ""
          }
        },
        "a7aaf87972794465a3dbc1ac663c6801": {
          "model_module": "@jupyter-widgets/base",
          "model_name": "LayoutModel",
          "model_module_version": "1.2.0",
          "state": {
            "_model_module": "@jupyter-widgets/base",
            "_model_module_version": "1.2.0",
            "_model_name": "LayoutModel",
            "_view_count": null,
            "_view_module": "@jupyter-widgets/base",
            "_view_module_version": "1.2.0",
            "_view_name": "LayoutView",
            "align_content": null,
            "align_items": null,
            "align_self": null,
            "border": null,
            "bottom": null,
            "display": null,
            "flex": null,
            "flex_flow": null,
            "grid_area": null,
            "grid_auto_columns": null,
            "grid_auto_flow": null,
            "grid_auto_rows": null,
            "grid_column": null,
            "grid_gap": null,
            "grid_row": null,
            "grid_template_areas": null,
            "grid_template_columns": null,
            "grid_template_rows": null,
            "height": null,
            "justify_content": null,
            "justify_items": null,
            "left": null,
            "margin": null,
            "max_height": null,
            "max_width": null,
            "min_height": null,
            "min_width": null,
            "object_fit": null,
            "object_position": null,
            "order": null,
            "overflow": null,
            "overflow_x": null,
            "overflow_y": null,
            "padding": null,
            "right": null,
            "top": null,
            "visibility": null,
            "width": null
          }
        },
        "ec1e4fe40dad4c69ac62c0f8573d2864": {
          "model_module": "@jupyter-widgets/controls",
          "model_name": "ProgressStyleModel",
          "model_module_version": "1.5.0",
          "state": {
            "_model_module": "@jupyter-widgets/controls",
            "_model_module_version": "1.5.0",
            "_model_name": "ProgressStyleModel",
            "_view_count": null,
            "_view_module": "@jupyter-widgets/base",
            "_view_module_version": "1.2.0",
            "_view_name": "StyleView",
            "bar_color": null,
            "description_width": ""
          }
        },
        "c78f10c03c8c4316a2c9056b609bae00": {
          "model_module": "@jupyter-widgets/base",
          "model_name": "LayoutModel",
          "model_module_version": "1.2.0",
          "state": {
            "_model_module": "@jupyter-widgets/base",
            "_model_module_version": "1.2.0",
            "_model_name": "LayoutModel",
            "_view_count": null,
            "_view_module": "@jupyter-widgets/base",
            "_view_module_version": "1.2.0",
            "_view_name": "LayoutView",
            "align_content": null,
            "align_items": null,
            "align_self": null,
            "border": null,
            "bottom": null,
            "display": null,
            "flex": null,
            "flex_flow": null,
            "grid_area": null,
            "grid_auto_columns": null,
            "grid_auto_flow": null,
            "grid_auto_rows": null,
            "grid_column": null,
            "grid_gap": null,
            "grid_row": null,
            "grid_template_areas": null,
            "grid_template_columns": null,
            "grid_template_rows": null,
            "height": null,
            "justify_content": null,
            "justify_items": null,
            "left": null,
            "margin": null,
            "max_height": null,
            "max_width": null,
            "min_height": null,
            "min_width": null,
            "object_fit": null,
            "object_position": null,
            "order": null,
            "overflow": null,
            "overflow_x": null,
            "overflow_y": null,
            "padding": null,
            "right": null,
            "top": null,
            "visibility": null,
            "width": null
          }
        },
        "0a0722771237462c8267d489a9bb3883": {
          "model_module": "@jupyter-widgets/controls",
          "model_name": "DescriptionStyleModel",
          "model_module_version": "1.5.0",
          "state": {
            "_model_module": "@jupyter-widgets/controls",
            "_model_module_version": "1.5.0",
            "_model_name": "DescriptionStyleModel",
            "_view_count": null,
            "_view_module": "@jupyter-widgets/base",
            "_view_module_version": "1.2.0",
            "_view_name": "StyleView",
            "description_width": ""
          }
        },
        "4e0a013feeef4cdb89a4850cdf0f9a2c": {
          "model_module": "@jupyter-widgets/controls",
          "model_name": "HBoxModel",
          "model_module_version": "1.5.0",
          "state": {
            "_dom_classes": [],
            "_model_module": "@jupyter-widgets/controls",
            "_model_module_version": "1.5.0",
            "_model_name": "HBoxModel",
            "_view_count": null,
            "_view_module": "@jupyter-widgets/controls",
            "_view_module_version": "1.5.0",
            "_view_name": "HBoxView",
            "box_style": "",
            "children": [
              "IPY_MODEL_75b266ea5ede4278b15f13924893efd8",
              "IPY_MODEL_deadbaff8c7b4252b5f3c8fb1b660ca4",
              "IPY_MODEL_fd79a83285304907be3e52a9861ca406"
            ],
            "layout": "IPY_MODEL_44341ef43ff649819b35f57df8dee807"
          }
        },
        "75b266ea5ede4278b15f13924893efd8": {
          "model_module": "@jupyter-widgets/controls",
          "model_name": "HTMLModel",
          "model_module_version": "1.5.0",
          "state": {
            "_dom_classes": [],
            "_model_module": "@jupyter-widgets/controls",
            "_model_module_version": "1.5.0",
            "_model_name": "HTMLModel",
            "_view_count": null,
            "_view_module": "@jupyter-widgets/controls",
            "_view_module_version": "1.5.0",
            "_view_name": "HTMLView",
            "description": "",
            "description_tooltip": null,
            "layout": "IPY_MODEL_fa3ec6fce33b4daea51a691137f48124",
            "placeholder": "​",
            "style": "IPY_MODEL_b389483ddbfd49a4a46f8e65fee9334a",
            "value": "Map: 100%"
          }
        },
        "deadbaff8c7b4252b5f3c8fb1b660ca4": {
          "model_module": "@jupyter-widgets/controls",
          "model_name": "FloatProgressModel",
          "model_module_version": "1.5.0",
          "state": {
            "_dom_classes": [],
            "_model_module": "@jupyter-widgets/controls",
            "_model_module_version": "1.5.0",
            "_model_name": "FloatProgressModel",
            "_view_count": null,
            "_view_module": "@jupyter-widgets/controls",
            "_view_module_version": "1.5.0",
            "_view_name": "ProgressView",
            "bar_style": "success",
            "description": "",
            "description_tooltip": null,
            "layout": "IPY_MODEL_385ec5ad2f784141a9dedcb36c5d664e",
            "max": 7600,
            "min": 0,
            "orientation": "horizontal",
            "style": "IPY_MODEL_6a86bbe82dde456faa05dfb64d9c6c37",
            "value": 7600
          }
        },
        "fd79a83285304907be3e52a9861ca406": {
          "model_module": "@jupyter-widgets/controls",
          "model_name": "HTMLModel",
          "model_module_version": "1.5.0",
          "state": {
            "_dom_classes": [],
            "_model_module": "@jupyter-widgets/controls",
            "_model_module_version": "1.5.0",
            "_model_name": "HTMLModel",
            "_view_count": null,
            "_view_module": "@jupyter-widgets/controls",
            "_view_module_version": "1.5.0",
            "_view_name": "HTMLView",
            "description": "",
            "description_tooltip": null,
            "layout": "IPY_MODEL_73ff0c88cd2141d79ca2a022009d8fc4",
            "placeholder": "​",
            "style": "IPY_MODEL_5487523e881b4efca915f7116eabb760",
            "value": " 7600/7600 [00:01&lt;00:00, 5154.28 examples/s]"
          }
        },
        "44341ef43ff649819b35f57df8dee807": {
          "model_module": "@jupyter-widgets/base",
          "model_name": "LayoutModel",
          "model_module_version": "1.2.0",
          "state": {
            "_model_module": "@jupyter-widgets/base",
            "_model_module_version": "1.2.0",
            "_model_name": "LayoutModel",
            "_view_count": null,
            "_view_module": "@jupyter-widgets/base",
            "_view_module_version": "1.2.0",
            "_view_name": "LayoutView",
            "align_content": null,
            "align_items": null,
            "align_self": null,
            "border": null,
            "bottom": null,
            "display": null,
            "flex": null,
            "flex_flow": null,
            "grid_area": null,
            "grid_auto_columns": null,
            "grid_auto_flow": null,
            "grid_auto_rows": null,
            "grid_column": null,
            "grid_gap": null,
            "grid_row": null,
            "grid_template_areas": null,
            "grid_template_columns": null,
            "grid_template_rows": null,
            "height": null,
            "justify_content": null,
            "justify_items": null,
            "left": null,
            "margin": null,
            "max_height": null,
            "max_width": null,
            "min_height": null,
            "min_width": null,
            "object_fit": null,
            "object_position": null,
            "order": null,
            "overflow": null,
            "overflow_x": null,
            "overflow_y": null,
            "padding": null,
            "right": null,
            "top": null,
            "visibility": null,
            "width": null
          }
        },
        "fa3ec6fce33b4daea51a691137f48124": {
          "model_module": "@jupyter-widgets/base",
          "model_name": "LayoutModel",
          "model_module_version": "1.2.0",
          "state": {
            "_model_module": "@jupyter-widgets/base",
            "_model_module_version": "1.2.0",
            "_model_name": "LayoutModel",
            "_view_count": null,
            "_view_module": "@jupyter-widgets/base",
            "_view_module_version": "1.2.0",
            "_view_name": "LayoutView",
            "align_content": null,
            "align_items": null,
            "align_self": null,
            "border": null,
            "bottom": null,
            "display": null,
            "flex": null,
            "flex_flow": null,
            "grid_area": null,
            "grid_auto_columns": null,
            "grid_auto_flow": null,
            "grid_auto_rows": null,
            "grid_column": null,
            "grid_gap": null,
            "grid_row": null,
            "grid_template_areas": null,
            "grid_template_columns": null,
            "grid_template_rows": null,
            "height": null,
            "justify_content": null,
            "justify_items": null,
            "left": null,
            "margin": null,
            "max_height": null,
            "max_width": null,
            "min_height": null,
            "min_width": null,
            "object_fit": null,
            "object_position": null,
            "order": null,
            "overflow": null,
            "overflow_x": null,
            "overflow_y": null,
            "padding": null,
            "right": null,
            "top": null,
            "visibility": null,
            "width": null
          }
        },
        "b389483ddbfd49a4a46f8e65fee9334a": {
          "model_module": "@jupyter-widgets/controls",
          "model_name": "DescriptionStyleModel",
          "model_module_version": "1.5.0",
          "state": {
            "_model_module": "@jupyter-widgets/controls",
            "_model_module_version": "1.5.0",
            "_model_name": "DescriptionStyleModel",
            "_view_count": null,
            "_view_module": "@jupyter-widgets/base",
            "_view_module_version": "1.2.0",
            "_view_name": "StyleView",
            "description_width": ""
          }
        },
        "385ec5ad2f784141a9dedcb36c5d664e": {
          "model_module": "@jupyter-widgets/base",
          "model_name": "LayoutModel",
          "model_module_version": "1.2.0",
          "state": {
            "_model_module": "@jupyter-widgets/base",
            "_model_module_version": "1.2.0",
            "_model_name": "LayoutModel",
            "_view_count": null,
            "_view_module": "@jupyter-widgets/base",
            "_view_module_version": "1.2.0",
            "_view_name": "LayoutView",
            "align_content": null,
            "align_items": null,
            "align_self": null,
            "border": null,
            "bottom": null,
            "display": null,
            "flex": null,
            "flex_flow": null,
            "grid_area": null,
            "grid_auto_columns": null,
            "grid_auto_flow": null,
            "grid_auto_rows": null,
            "grid_column": null,
            "grid_gap": null,
            "grid_row": null,
            "grid_template_areas": null,
            "grid_template_columns": null,
            "grid_template_rows": null,
            "height": null,
            "justify_content": null,
            "justify_items": null,
            "left": null,
            "margin": null,
            "max_height": null,
            "max_width": null,
            "min_height": null,
            "min_width": null,
            "object_fit": null,
            "object_position": null,
            "order": null,
            "overflow": null,
            "overflow_x": null,
            "overflow_y": null,
            "padding": null,
            "right": null,
            "top": null,
            "visibility": null,
            "width": null
          }
        },
        "6a86bbe82dde456faa05dfb64d9c6c37": {
          "model_module": "@jupyter-widgets/controls",
          "model_name": "ProgressStyleModel",
          "model_module_version": "1.5.0",
          "state": {
            "_model_module": "@jupyter-widgets/controls",
            "_model_module_version": "1.5.0",
            "_model_name": "ProgressStyleModel",
            "_view_count": null,
            "_view_module": "@jupyter-widgets/base",
            "_view_module_version": "1.2.0",
            "_view_name": "StyleView",
            "bar_color": null,
            "description_width": ""
          }
        },
        "73ff0c88cd2141d79ca2a022009d8fc4": {
          "model_module": "@jupyter-widgets/base",
          "model_name": "LayoutModel",
          "model_module_version": "1.2.0",
          "state": {
            "_model_module": "@jupyter-widgets/base",
            "_model_module_version": "1.2.0",
            "_model_name": "LayoutModel",
            "_view_count": null,
            "_view_module": "@jupyter-widgets/base",
            "_view_module_version": "1.2.0",
            "_view_name": "LayoutView",
            "align_content": null,
            "align_items": null,
            "align_self": null,
            "border": null,
            "bottom": null,
            "display": null,
            "flex": null,
            "flex_flow": null,
            "grid_area": null,
            "grid_auto_columns": null,
            "grid_auto_flow": null,
            "grid_auto_rows": null,
            "grid_column": null,
            "grid_gap": null,
            "grid_row": null,
            "grid_template_areas": null,
            "grid_template_columns": null,
            "grid_template_rows": null,
            "height": null,
            "justify_content": null,
            "justify_items": null,
            "left": null,
            "margin": null,
            "max_height": null,
            "max_width": null,
            "min_height": null,
            "min_width": null,
            "object_fit": null,
            "object_position": null,
            "order": null,
            "overflow": null,
            "overflow_x": null,
            "overflow_y": null,
            "padding": null,
            "right": null,
            "top": null,
            "visibility": null,
            "width": null
          }
        },
        "5487523e881b4efca915f7116eabb760": {
          "model_module": "@jupyter-widgets/controls",
          "model_name": "DescriptionStyleModel",
          "model_module_version": "1.5.0",
          "state": {
            "_model_module": "@jupyter-widgets/controls",
            "_model_module_version": "1.5.0",
            "_model_name": "DescriptionStyleModel",
            "_view_count": null,
            "_view_module": "@jupyter-widgets/base",
            "_view_module_version": "1.2.0",
            "_view_name": "StyleView",
            "description_width": ""
          }
        }
      }
    }
  },
  "cells": [
    {
      "cell_type": "code",
      "source": [
        "from google.colab import drive\n",
        "drive.mount('/content/drive')"
      ],
      "metadata": {
        "colab": {
          "base_uri": "https://localhost:8080/"
        },
        "id": "w0EG3gJLUWz6",
        "outputId": "feecfa3b-e7b1-49fa-8025-8d3d64bbcd44"
      },
      "execution_count": null,
      "outputs": [
        {
          "output_type": "stream",
          "name": "stdout",
          "text": [
            "Drive already mounted at /content/drive; to attempt to forcibly remount, call drive.mount(\"/content/drive\", force_remount=True).\n"
          ]
        }
      ]
    },
    {
      "cell_type": "code",
      "execution_count": null,
      "metadata": {
        "id": "XDJBHAUCJxRD"
      },
      "outputs": [],
      "source": [
        "import torch\n",
        "import torch.nn as nn\n",
        "\n",
        "class Transformer(nn.Module) :\n",
        "  def __init__(self, vocab_size, embed_dim=64, nhead=4, hidden_dim=128, num_classes=2) :\n",
        "    super().__init__()\n",
        "    self.embedding = nn.Embedding(vocab_size, embed_dim)\n",
        "    encoder_layer = nn.TransformerEncoderLayer(embed_dim, nhead, hidden_dim)\n",
        "    self.transformer = nn.TransformerEncoder(encoder_layer, num_layers=2)\n",
        "    self.classifier = nn.Linear(embed_dim, num_classes)\n",
        "\n",
        "  def forward(self, x) :\n",
        "    x = self.embedding(x)\n",
        "    x = x.permute(1, 0, 2)\n",
        "    x = self.transformer(x)\n",
        "    x = x.mean(dim=0)\n",
        "    x = self.classifier(x)\n",
        "    return x"
      ]
    },
    {
      "cell_type": "code",
      "source": [
        "from datasets import load_dataset\n",
        "from torch.utils.data import DataLoader\n",
        "from transformers import AutoTokenizer\n",
        "\n",
        "# IMDb의 작은 버전 사용\n",
        "dataset = load_dataset(\"ag_news\")\n",
        "tokenizer = AutoTokenizer.from_pretrained(\"distilbert-base-uncased\")\n",
        "\n",
        "def tokenize(example):\n",
        "    return tokenizer(example['text'], padding='max_length', truncation=True, max_length=128)\n",
        "\n",
        "encoded = dataset.map(tokenize, batched=True)\n",
        "encoded.set_format(type='torch', columns=['input_ids', 'label'])\n"
      ],
      "metadata": {
        "colab": {
          "base_uri": "https://localhost:8080/",
          "height": 81,
          "referenced_widgets": [
            "009229a480c3481b8eae2bdfffc5eba7",
            "47fb26a3a7d340aaabd87422cd30349a",
            "97e53b940f7a4befb46a50ac1b6945ee",
            "c396f8c6a12d4853b45354d01adc042f",
            "8c3b08fb59f847798ba889ade6fdaf3b",
            "7cc165810e7b434eb7d021b28d21646e",
            "73c7a42f252f444fb5ba83063420e114",
            "a7aaf87972794465a3dbc1ac663c6801",
            "ec1e4fe40dad4c69ac62c0f8573d2864",
            "c78f10c03c8c4316a2c9056b609bae00",
            "0a0722771237462c8267d489a9bb3883",
            "4e0a013feeef4cdb89a4850cdf0f9a2c",
            "75b266ea5ede4278b15f13924893efd8",
            "deadbaff8c7b4252b5f3c8fb1b660ca4",
            "fd79a83285304907be3e52a9861ca406",
            "44341ef43ff649819b35f57df8dee807",
            "fa3ec6fce33b4daea51a691137f48124",
            "b389483ddbfd49a4a46f8e65fee9334a",
            "385ec5ad2f784141a9dedcb36c5d664e",
            "6a86bbe82dde456faa05dfb64d9c6c37",
            "73ff0c88cd2141d79ca2a022009d8fc4",
            "5487523e881b4efca915f7116eabb760"
          ]
        },
        "id": "NLrkkbW0Kb3k",
        "outputId": "43de9e01-6e3d-4105-f900-6f48b59d86a7"
      },
      "execution_count": null,
      "outputs": [
        {
          "output_type": "display_data",
          "data": {
            "text/plain": [
              "Map:   0%|          | 0/120000 [00:00<?, ? examples/s]"
            ],
            "application/vnd.jupyter.widget-view+json": {
              "version_major": 2,
              "version_minor": 0,
              "model_id": "009229a480c3481b8eae2bdfffc5eba7"
            }
          },
          "metadata": {}
        },
        {
          "output_type": "display_data",
          "data": {
            "text/plain": [
              "Map:   0%|          | 0/7600 [00:00<?, ? examples/s]"
            ],
            "application/vnd.jupyter.widget-view+json": {
              "version_major": 2,
              "version_minor": 0,
              "model_id": "4e0a013feeef4cdb89a4850cdf0f9a2c"
            }
          },
          "metadata": {}
        }
      ]
    },
    {
      "cell_type": "code",
      "source": [
        "import torch\n",
        "from torch.utils.data import DataLoader\n",
        "from torch.optim import Adam\n",
        "from torch.nn import CrossEntropyLoss\n",
        "from tqdm import tqdm\n",
        "\n",
        "device = torch.device(\"cuda\" if torch.cuda.is_available() else \"cpu\")\n",
        "print(device)\n",
        "\n",
        "# 모델 초기화\n",
        "model = Transformer(\n",
        "    vocab_size=tokenizer.vocab_size,\n",
        "    embed_dim=64,\n",
        "    nhead=4,\n",
        "    hidden_dim=128,\n",
        "    num_classes=4\n",
        ").to(device)\n",
        "\n",
        "# 하이퍼파라미터 설정\n",
        "batch_size = 32\n",
        "num_epochs = 7\n",
        "learning_rate = 1e-4\n",
        "\n",
        "# DataLoader 설정\n",
        "train_loader = DataLoader(encoded['train'], batch_size=batch_size, shuffle=True)\n",
        "val_loader = DataLoader(encoded['test'], batch_size=batch_size)\n",
        "\n",
        "# Loss, Optimizer\n",
        "criterion = CrossEntropyLoss()\n",
        "optimizer = Adam(model.parameters(), lr=learning_rate)\n",
        "\n",
        "# 학습 루프\n",
        "for epoch in range(num_epochs):\n",
        "    model.train()\n",
        "    total_loss = 0\n",
        "    correct = 0\n",
        "    total = 0\n",
        "    loop = tqdm(train_loader, desc=f\"Epoch {epoch+1}\")\n",
        "\n",
        "    for batch in loop:\n",
        "        input_ids = batch['input_ids'].to(device)\n",
        "        labels = batch['label'].to(device)\n",
        "\n",
        "        outputs = model(input_ids)  # (batch_size, num_classes)\n",
        "        loss = criterion(outputs, labels)\n",
        "\n",
        "        optimizer.zero_grad()\n",
        "        loss.backward()\n",
        "        optimizer.step()\n",
        "\n",
        "        total_loss += loss.item()\n",
        "        preds = torch.argmax(outputs, dim=1)\n",
        "        correct += (preds == labels).sum().item()\n",
        "        total += labels.size(0)\n",
        "\n",
        "        loop.set_postfix(loss=loss.item(), acc=correct/total)\n",
        "\n",
        "    print(f\"[Epoch {epoch+1}] Loss: {total_loss/len(train_loader):.4f} | Acc: {correct/total:.4f}\")\n",
        "\n",
        "# 검증\n",
        "model.eval()\n",
        "correct = 0\n",
        "total = 0\n",
        "with torch.no_grad():\n",
        "    for batch in val_loader:\n",
        "        input_ids = batch['input_ids'].to(device)\n",
        "        labels = batch['label'].to(device)\n",
        "        outputs = model(input_ids)\n",
        "        preds = torch.argmax(outputs, dim=1)\n",
        "        correct += (preds == labels).sum().item()\n",
        "        total += labels.size(0)\n",
        "\n",
        "torch.save(model.state_dict(), \"/content/drive/MyDrive/transformer_model.pt\")\n",
        "print(f\"Validation Accuracy: {correct / total:.4f}\")\n"
      ],
      "metadata": {
        "colab": {
          "base_uri": "https://localhost:8080/"
        },
        "id": "8wgQxh9NOeqJ",
        "outputId": "e3d6c364-d60c-449c-d715-7549d907c67f"
      },
      "execution_count": null,
      "outputs": [
        {
          "output_type": "stream",
          "name": "stdout",
          "text": [
            "cuda\n"
          ]
        },
        {
          "output_type": "stream",
          "name": "stderr",
          "text": [
            "Epoch 1: 100%|██████████| 3750/3750 [00:37<00:00, 100.25it/s, acc=0.686, loss=0.433]\n"
          ]
        },
        {
          "output_type": "stream",
          "name": "stdout",
          "text": [
            "[Epoch 1] Loss: 0.7906 | Acc: 0.6855\n"
          ]
        },
        {
          "output_type": "stream",
          "name": "stderr",
          "text": [
            "Epoch 2: 100%|██████████| 3750/3750 [00:35<00:00, 104.58it/s, acc=0.829, loss=0.656]\n"
          ]
        },
        {
          "output_type": "stream",
          "name": "stdout",
          "text": [
            "[Epoch 2] Loss: 0.4782 | Acc: 0.8290\n"
          ]
        },
        {
          "output_type": "stream",
          "name": "stderr",
          "text": [
            "Epoch 3: 100%|██████████| 3750/3750 [00:36<00:00, 103.63it/s, acc=0.861, loss=0.206]\n"
          ]
        },
        {
          "output_type": "stream",
          "name": "stdout",
          "text": [
            "[Epoch 3] Loss: 0.3952 | Acc: 0.8607\n"
          ]
        },
        {
          "output_type": "stream",
          "name": "stderr",
          "text": [
            "Epoch 4: 100%|██████████| 3750/3750 [00:36<00:00, 101.36it/s, acc=0.878, loss=0.317]\n"
          ]
        },
        {
          "output_type": "stream",
          "name": "stdout",
          "text": [
            "[Epoch 4] Loss: 0.3488 | Acc: 0.8783\n"
          ]
        },
        {
          "output_type": "stream",
          "name": "stderr",
          "text": [
            "Epoch 5: 100%|██████████| 3750/3750 [00:38<00:00, 98.63it/s, acc=0.889, loss=0.335] \n"
          ]
        },
        {
          "output_type": "stream",
          "name": "stdout",
          "text": [
            "[Epoch 5] Loss: 0.3182 | Acc: 0.8894\n"
          ]
        },
        {
          "output_type": "stream",
          "name": "stderr",
          "text": [
            "Epoch 6: 100%|██████████| 3750/3750 [00:36<00:00, 102.58it/s, acc=0.898, loss=0.346]\n"
          ]
        },
        {
          "output_type": "stream",
          "name": "stdout",
          "text": [
            "[Epoch 6] Loss: 0.2950 | Acc: 0.8981\n"
          ]
        },
        {
          "output_type": "stream",
          "name": "stderr",
          "text": [
            "Epoch 7: 100%|██████████| 3750/3750 [00:36<00:00, 102.24it/s, acc=0.905, loss=0.381]\n"
          ]
        },
        {
          "output_type": "stream",
          "name": "stdout",
          "text": [
            "[Epoch 7] Loss: 0.2763 | Acc: 0.9051\n",
            "Validation Accuracy: 0.8913\n"
          ]
        }
      ]
    },
    {
      "cell_type": "code",
      "source": [
        "model = Transformer(\n",
        "    vocab_size=tokenizer.vocab_size,\n",
        "    embed_dim=64,\n",
        "    nhead=4,\n",
        "    hidden_dim=128,\n",
        "    num_classes=4  # AG News는 클래스가 4개\n",
        ").to(device)\n",
        "\n",
        "model.load_state_dict(torch.load(\"/content/drive/MyDrive/transformer_model.pt\"))\n",
        "model.eval()\n",
        "print(\"✅ 모델 불러오기 완료\")"
      ],
      "metadata": {
        "colab": {
          "base_uri": "https://localhost:8080/"
        },
        "id": "aixUk-45YdHP",
        "outputId": "143597bb-48ad-4bdd-e82d-66f26c9a52cf"
      },
      "execution_count": null,
      "outputs": [
        {
          "output_type": "stream",
          "name": "stdout",
          "text": [
            "✅ 모델 불러오기 완료\n"
          ]
        }
      ]
    },
    {
      "cell_type": "code",
      "source": [
        "import torch.nn.utils.prune as prune\n",
        "\n",
        "prune.l1_unstructured(model.classifier, name=\"weight\", amount=0.5)\n",
        "\n",
        "print(model.classifier.weight)"
      ],
      "metadata": {
        "colab": {
          "base_uri": "https://localhost:8080/"
        },
        "id": "kR0bpFUEYomI",
        "outputId": "b2bfc86b-c73b-4ef9-f666-0a814f2d66e0"
      },
      "execution_count": null,
      "outputs": [
        {
          "output_type": "stream",
          "name": "stdout",
          "text": [
            "tensor([[-0.0000, -0.0000, -0.0000, -0.0000, -0.1475,  0.0000,  0.0000, -0.0000,\n",
            "          0.0000,  0.0000,  0.0000, -0.0000, -0.0000, -0.0000,  0.0000, -0.1873,\n",
            "         -0.0000, -0.0000,  0.0000,  0.1788,  0.0000, -0.0000,  0.0000, -0.0000,\n",
            "          0.0000, -0.2164,  0.0000, -0.1700, -0.0000, -0.1540, -0.1743,  0.1565,\n",
            "         -0.0000, -0.0000,  0.0000,  0.0000,  0.0000,  0.1520,  0.0000, -0.0000,\n",
            "          0.0000,  0.1762, -0.0000,  0.0000,  0.1516, -0.0000,  0.0000,  0.0000,\n",
            "         -0.1472,  0.1786, -0.0000,  0.0000, -0.0000, -0.1709,  0.0000, -0.0000,\n",
            "          0.0000,  0.0000,  0.1917, -0.0000,  0.2122, -0.0000, -0.1528,  0.0000],\n",
            "        [-0.2326, -0.1442,  0.1564, -0.0000,  0.0000,  0.0000, -0.0000,  0.0000,\n",
            "          0.0000, -0.1620, -0.0000, -0.0000,  0.0000,  0.1588, -0.0000, -0.0000,\n",
            "          0.1931,  0.0000,  0.0000,  0.0000,  0.2041, -0.0000, -0.1855, -0.0000,\n",
            "         -0.1704,  0.2104, -0.0000,  0.1974, -0.0000,  0.0000,  0.1965, -0.0000,\n",
            "         -0.0000,  0.0000, -0.1562, -0.0000,  0.0000,  0.0000, -0.2549, -0.0000,\n",
            "         -0.1813, -0.0000, -0.0000, -0.0000, -0.0000, -0.1467,  0.0000, -0.0000,\n",
            "         -0.0000, -0.0000, -0.0000,  0.1746,  0.0000, -0.0000, -0.1507,  0.0000,\n",
            "          0.1871, -0.0000, -0.0000,  0.2586,  0.0000,  0.0000,  0.0000, -0.1710],\n",
            "        [ 0.2488,  0.0000,  0.0000, -0.0000, -0.1667,  0.0000,  0.0000, -0.0000,\n",
            "          0.1837,  0.0000,  0.0000,  0.0000,  0.0000,  0.0000, -0.1929,  0.0000,\n",
            "         -0.1751, -0.0000, -0.0000,  0.0000, -0.0000, -0.0000,  0.1681, -0.0000,\n",
            "          0.0000,  0.0000,  0.1825,  0.0000, -0.0000,  0.0000,  0.0000,  0.0000,\n",
            "         -0.1955, -0.0000, -0.0000,  0.1493,  0.0000, -0.0000, -0.0000, -0.0000,\n",
            "         -0.1744, -0.0000,  0.0000, -0.0000,  0.0000,  0.1568, -0.0000, -0.0000,\n",
            "          0.1523,  0.0000,  0.0000, -0.0000,  0.0000,  0.0000, -0.0000, -0.0000,\n",
            "         -0.0000, -0.1598, -0.0000, -0.0000,  0.0000,  0.0000, -0.0000,  0.0000],\n",
            "        [-0.1471, -0.0000,  0.0000,  0.0000,  0.0000, -0.0000, -0.0000, -0.0000,\n",
            "          0.0000,  0.0000,  0.0000,  0.0000,  0.0000, -0.0000,  0.1573,  0.0000,\n",
            "          0.1601, -0.0000, -0.0000, -0.0000,  0.0000,  0.0000, -0.0000,  0.0000,\n",
            "          0.0000,  0.0000,  0.0000,  0.0000,  0.1644,  0.0000,  0.0000, -0.0000,\n",
            "          0.0000,  0.0000, -0.0000,  0.0000,  0.0000, -0.0000,  0.2169,  0.0000,\n",
            "          0.1738, -0.1719, -0.0000,  0.0000,  0.0000,  0.0000, -0.0000, -0.0000,\n",
            "         -0.1433, -0.1697, -0.1779,  0.0000,  0.0000,  0.0000,  0.0000,  0.0000,\n",
            "         -0.0000,  0.0000,  0.1478, -0.0000, -0.1652, -0.0000, -0.0000, -0.1601]],\n",
            "       device='cuda:0', grad_fn=<MulBackward0>)\n"
          ]
        }
      ]
    },
    {
      "cell_type": "code",
      "source": [
        "# 현재 weight\n",
        "dense_weight = model.classifier.weight.data  # (out_features, in_features)\n",
        "\n",
        "# sparse tensor로 변환\n",
        "sparse_weight = dense_weight.to_sparse()\n",
        "\n",
        "# 확인\n",
        "print(f\"👉 Dense weight shape: {dense_weight.shape}\")\n",
        "print(f\"👉 Sparse weight nnz (non-zero): {sparse_weight._nnz()}\")\n",
        "\n",
        "# 저장할 dict 구성\n",
        "sparse_model_state = {\n",
        "    'sparse_weight_indices': sparse_weight.indices(),\n",
        "    'sparse_weight_values': sparse_weight.values(),\n",
        "    'sparse_weight_size': sparse_weight.size(),\n",
        "    'classifier_bias': model.classifier.bias.data  # bias는 dense로 저장\n",
        "}\n",
        "\n",
        "# 저장\n",
        "torch.save(sparse_model_state, \"/content/drive/MyDrive/pruned_transformer_model.pt\")\n",
        "print(\"✅ Sparse 모델 weight 저장 완료\")"
      ],
      "metadata": {
        "colab": {
          "base_uri": "https://localhost:8080/"
        },
        "id": "ozisHtJTYtQs",
        "outputId": "f3754d02-f471-4b26-9a5e-fd1e2dee7d69"
      },
      "execution_count": null,
      "outputs": [
        {
          "output_type": "stream",
          "name": "stdout",
          "text": [
            "👉 Dense weight shape: torch.Size([4, 64])\n",
            "👉 Sparse weight nnz (non-zero): 64\n",
            "✅ Sparse 모델 weight 저장 완료\n"
          ]
        }
      ]
    },
    {
      "cell_type": "code",
      "source": [
        "import os\n",
        "\n",
        "size_before = os.path.getsize(\"/content/drive/MyDrive/transformer_model.pt\") / 1e6\n",
        "size_after = os.path.getsize(\"/content/drive/MyDrive/pruned_transformer_model.pt\") / 1e6\n",
        "\n",
        "print(f\"💾 모델 크기 전: {size_before:.2f} MB\")\n",
        "print(f\"💾 모델 크기 후: {size_after:.2f} MB\")"
      ],
      "metadata": {
        "colab": {
          "base_uri": "https://localhost:8080/"
        },
        "id": "nQtH30CDYt_P",
        "outputId": "bce4c23d-f872-4db8-cf8e-fe78a4e3edb6"
      },
      "execution_count": null,
      "outputs": [
        {
          "output_type": "stream",
          "name": "stdout",
          "text": [
            "💾 모델 크기 전: 8.09 MB\n",
            "💾 모델 크기 후: 0.00 MB\n"
          ]
        }
      ]
    },
    {
      "cell_type": "code",
      "source": [
        "# 불러오기\n",
        "loaded = torch.load(\"/content/drive/MyDrive/pruned_transformer_model.pt\")\n",
        "\n",
        "# sparse weight 복원\n",
        "sparse_tensor = torch.sparse_coo_tensor(\n",
        "    indices=loaded['sparse_weight_indices'],\n",
        "    values=loaded['sparse_weight_values'],\n",
        "    size=loaded['sparse_weight_size']\n",
        ")\n",
        "\n",
        "# 모델에 주입 (다시 dense로 변환해서 넣어야 함)\n",
        "model.classifier.weight.data = sparse_tensor.to_dense()\n",
        "model.classifier.bias.data = loaded['classifier_bias']\n",
        "\n",
        "print(\"✅ Sparse 저장된 weight 로드 완료\")"
      ],
      "metadata": {
        "colab": {
          "base_uri": "https://localhost:8080/"
        },
        "id": "bo9wcEkAaGxH",
        "outputId": "0bd36376-3b4f-4e5d-9111-b5ce633deb05"
      },
      "execution_count": null,
      "outputs": [
        {
          "output_type": "stream",
          "name": "stdout",
          "text": [
            "✅ Sparse 저장된 weight 로드 완료\n"
          ]
        }
      ]
    },
    {
      "cell_type": "code",
      "source": [
        "correct = 0\n",
        "total = 0\n",
        "\n",
        "model.to(device)\n",
        "model.eval()\n",
        "\n",
        "with torch.no_grad():\n",
        "    for batch in val_loader:\n",
        "        input_ids = batch['input_ids'].to(device)\n",
        "        labels = batch['label'].to(device)\n",
        "\n",
        "        outputs = model(input_ids)\n",
        "        preds = torch.argmax(outputs, dim=1)\n",
        "\n",
        "        correct += (preds == labels).sum().item()\n",
        "        total += labels.size(0)\n",
        "\n",
        "accuracy = correct / total\n",
        "print(f\"✅ Pruned 모델 Validation Accuracy: {accuracy:.4f}\")\n"
      ],
      "metadata": {
        "colab": {
          "base_uri": "https://localhost:8080/"
        },
        "id": "h0DjqEgbZbRZ",
        "outputId": "3d8c4565-c077-40cd-9a35-c949d471560d"
      },
      "execution_count": null,
      "outputs": [
        {
          "output_type": "stream",
          "name": "stdout",
          "text": [
            "✅ Pruned 모델 Validation Accuracy: 0.8833\n"
          ]
        }
      ]
    }
  ]
}