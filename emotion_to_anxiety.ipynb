{
  "nbformat": 4,
  "nbformat_minor": 0,
  "metadata": {
    "colab": {
      "provenance": [],
      "gpuType": "T4"
    },
    "kernelspec": {
      "name": "python3",
      "display_name": "Python 3"
    },
    "language_info": {
      "name": "python"
    },
    "accelerator": "GPU"
  },
  "cells": [
    {
      "cell_type": "code",
      "source": [
        "from google.colab import drive\n",
        "drive.mount('/content/drive')"
      ],
      "metadata": {
        "colab": {
          "base_uri": "https://localhost:8080/"
        },
        "id": "yE2bfQFt3xj5",
        "outputId": "9caf6031-45eb-4592-fe53-63fc9590c40b"
      },
      "execution_count": 6,
      "outputs": [
        {
          "output_type": "stream",
          "name": "stdout",
          "text": [
            "Mounted at /content/drive\n"
          ]
        }
      ]
    },
    {
      "cell_type": "code",
      "source": [
        "import torch\n",
        "\n",
        "if torch.cuda.is_available():\n",
        "    print(\"✅ GPU Available!\")\n",
        "    print(\"GPU :\", torch.cuda.get_device_name(0))"
      ],
      "metadata": {
        "colab": {
          "base_uri": "https://localhost:8080/"
        },
        "id": "VAEjwW695LRr",
        "outputId": "cebe287f-4ee6-4a5b-de35-f44c8993f9a5"
      },
      "execution_count": 1,
      "outputs": [
        {
          "output_type": "stream",
          "name": "stdout",
          "text": [
            "✅ GPU 사용 가능!\n",
            "GPU 이름: Tesla T4\n"
          ]
        }
      ]
    },
    {
      "cell_type": "code",
      "source": [
        "import os\n",
        "import torch\n",
        "from torch.utils.data import Dataset\n",
        "\n",
        "# 01 = neutral, 02 = calm, 03 = happy, 04 = sad, 05 = angry, 06 = fearful, 07 = disgust, 08 = surprised\n",
        "label_to_score = {\n",
        "    0: 0.0,  # neutral\n",
        "    1: 0.0,  # calm\n",
        "    2: 0.0,  # happy\n",
        "    3: 0.4,  # sad\n",
        "    4: 0.7,  # angry\n",
        "    5: 1.0,  # fearful\n",
        "    6: 0.5,  # disgust\n",
        "    7: 0.3,  # surprised\n",
        "}\n",
        "\n",
        "class MelSpectrogramDataset(Dataset):\n",
        "    def __init__(self, data, use_path_list=False):\n",
        "        if use_path_list:\n",
        "            self.file_list = data\n",
        "        else:\n",
        "            self.file_list = [\n",
        "                os.path.join(data, fname)\n",
        "                for fname in os.listdir(data)\n",
        "                if fname.endswith('.pt') and 'mel' in fname\n",
        "            ]\n",
        "        self.file_list.sort()\n",
        "\n",
        "    def __len__(self):\n",
        "        return len(self.file_list)\n",
        "\n",
        "    def __getitem__(self, idx):\n",
        "        path = self.file_list[idx]\n",
        "        mel = torch.load(path)\n",
        "\n",
        "        if mel.dim() == 2:\n",
        "            mel = mel.unsqueeze(0)  # (1, H, W)\n",
        "        elif mel.shape[0] != 1:\n",
        "            mel = mel[:1, :, :]  # 첫 채널만 가져옴\n",
        "\n",
        "        # 파일명 예시: mel_00003_4.pt → label은 맨 끝\n",
        "        label = int(os.path.basename(path).split('_')[-1].replace(\".pt\", \"\"))\n",
        "        label = label_to_score[label]\n",
        "\n",
        "\n",
        "        return mel, torch.tensor(label, dtype=torch.float32)\n"
      ],
      "metadata": {
        "id": "gFquEZjj3_ef"
      },
      "execution_count": 17,
      "outputs": []
    },
    {
      "cell_type": "code",
      "source": [
        "from torchvision import models\n",
        "import torch.nn as nn\n",
        "class EmotionCNN(nn.Module):\n",
        "    def __init__(self):\n",
        "        super().__init__()\n",
        "        self.model = models.resnet18(pretrained=True)\n",
        "\n",
        "\n",
        "        self.model.conv1 = nn.Conv2d(\n",
        "            in_channels=1, out_channels=64,\n",
        "            kernel_size=7, stride=2, padding=3, bias=False\n",
        "        )\n",
        "\n",
        "        in_features = self.model.fc.in_features\n",
        "        self.model.fc = nn.Sequential(\n",
        "            nn.Linear(in_features, 256),\n",
        "            nn.ReLU(),\n",
        "            nn.Dropout(0.3),\n",
        "            nn.Linear(256, 1),\n",
        "            nn.Sigmoid()\n",
        "        )\n",
        "\n",
        "    def forward(self, x):\n",
        "        return self.model(x)"
      ],
      "metadata": {
        "id": "SzHzfN2U4ReQ"
      },
      "execution_count": 18,
      "outputs": []
    },
    {
      "cell_type": "code",
      "source": [
        "import torch\n",
        "import torch.nn as nn\n",
        "from torch.utils.data import DataLoader\n",
        "from sklearn.model_selection import train_test_split\n",
        "import os\n",
        "from glob import glob\n",
        "\n",
        "from tqdm import tqdm\n",
        "\n",
        "\n",
        "device = torch.device(\"cuda\" if torch.cuda.is_available() else \"cpu\")\n",
        "print(f\"Using device: {device}\")\n",
        "\n",
        "all_files = sorted(glob(\"/content/drive/MyDrive/processed_data/mel_*.pt\"))\n",
        "\n",
        "train_files, val_files = train_test_split(all_files, test_size=0.2, random_state=42)\n",
        "\n",
        "train_dataset = MelSpectrogramDataset(train_files, use_path_list=True)\n",
        "val_dataset = MelSpectrogramDataset(val_files, use_path_list=True)\n",
        "\n",
        "train_loader = DataLoader(train_dataset, batch_size=32, shuffle=True)\n",
        "val_loader = DataLoader(val_dataset, batch_size=32)\n",
        "\n",
        "for mel, label in train_loader:\n",
        "    print(mel.shape)  # (batch_size, 1, 128, 313)\n",
        "    break\n",
        "\n",
        "model = EmotionCNN().to(device)\n",
        "criterion = nn.MSELoss()\n",
        "optimizer = torch.optim.Adam(model.parameters(), lr=1e-3)\n",
        "\n",
        "num_epochs = 10\n",
        "for epoch in range(num_epochs):\n",
        "    model.train()\n",
        "    train_loss = 0\n",
        "\n",
        "    train_loop = tqdm(train_loader, desc=f\"[Epoch {epoch+1}/{num_epochs}] Training\", leave=False)\n",
        "\n",
        "    for mel, label in train_loader:\n",
        "        mel = mel.to(device)\n",
        "        label = label.to(device).float().view(-1, 1)\n",
        "\n",
        "        optimizer.zero_grad()\n",
        "        output = model(mel)\n",
        "        loss = criterion(output, label)\n",
        "        loss.backward()\n",
        "        optimizer.step()\n",
        "\n",
        "        train_loss += loss.item() * mel.size(0)\n",
        "        train_loop.set_postfix(loss=loss.item())\n",
        "\n",
        "    train_loss /= len(train_loader.dataset)\n",
        "\n",
        "    model.eval()\n",
        "    val_loss = 0\n",
        "    with torch.no_grad():\n",
        "        for mel, label in val_loader:\n",
        "            mel = mel.to(device)\n",
        "            label = label.to(device).float().view(-1, 1)\n",
        "\n",
        "            output = model(mel)\n",
        "            loss = criterion(output, label)\n",
        "            val_loss += loss.item() * mel.size(0)\n",
        "\n",
        "    val_loss /= len(val_loader.dataset)\n",
        "\n",
        "    print(f\"[Epoch {epoch+1}] Train Loss: {train_loss:.4f} || Val Loss: {val_loss:.4f}\")\n",
        "\n"
      ],
      "metadata": {
        "colab": {
          "base_uri": "https://localhost:8080/"
        },
        "id": "lIOy2OtS4DZy",
        "outputId": "50e3025d-a4c2-42aa-fb88-9268bfe6784c"
      },
      "execution_count": 19,
      "outputs": [
        {
          "output_type": "stream",
          "name": "stdout",
          "text": [
            "Using device: cuda\n",
            "torch.Size([32, 1, 128, 313])\n"
          ]
        },
        {
          "output_type": "stream",
          "name": "stderr",
          "text": [
            "<ipython-input-17-140ea1842db2>:39: FutureWarning: You are using `torch.load` with `weights_only=False` (the current default value), which uses the default pickle module implicitly. It is possible to construct malicious pickle data which will execute arbitrary code during unpickling (See https://github.com/pytorch/pytorch/blob/main/SECURITY.md#untrusted-models for more details). In a future release, the default value for `weights_only` will be flipped to `True`. This limits the functions that could be executed during unpickling. Arbitrary objects will no longer be allowed to be loaded via this mode unless they are explicitly allowlisted by the user via `torch.serialization.add_safe_globals`. We recommend you start setting `weights_only=True` for any use case where you don't have full control of the loaded file. Please open an issue on GitHub for any issues related to this experimental feature.\n",
            "  mel = torch.load(path)\n",
            "/usr/local/lib/python3.11/dist-packages/torchvision/models/_utils.py:208: UserWarning: The parameter 'pretrained' is deprecated since 0.13 and may be removed in the future, please use 'weights' instead.\n",
            "  warnings.warn(\n",
            "/usr/local/lib/python3.11/dist-packages/torchvision/models/_utils.py:223: UserWarning: Arguments other than a weight enum or `None` for 'weights' are deprecated since 0.13 and may be removed in the future. The current behavior is equivalent to passing `weights=ResNet18_Weights.IMAGENET1K_V1`. You can also use `weights=ResNet18_Weights.DEFAULT` to get the most up-to-date weights.\n",
            "  warnings.warn(msg)\n",
            "[Epoch 1/10] Training:   0%|          | 0/36 [00:00<?, ?it/s]\n",
            "[Epoch 1/10] Training:   0%|          | 0/36 [00:07<?, ?it/s, loss=0.0894]"
          ]
        },
        {
          "output_type": "stream",
          "name": "stdout",
          "text": [
            "[Epoch 1] Train Loss: 0.1042 || Val Loss: 0.0839\n"
          ]
        },
        {
          "output_type": "stream",
          "name": "stderr",
          "text": [
            "\n",
            "                                                                          \n",
            "[Epoch 2/10] Training:   0%|          | 0/36 [00:00<?, ?it/s, loss=0.0576]\u001b[A\n",
            "[Epoch 2/10] Training:   0%|          | 0/36 [00:00<?, ?it/s, loss=0.0886]\u001b[A\n",
            "[Epoch 2/10] Training:   0%|          | 0/36 [00:00<?, ?it/s, loss=0.104] \u001b[A\n",
            "[Epoch 2/10] Training:   0%|          | 0/36 [00:00<?, ?it/s, loss=0.109]\u001b[A\n",
            "[Epoch 2/10] Training:   0%|          | 0/36 [00:00<?, ?it/s, loss=0.064]\u001b[A\n",
            "[Epoch 2/10] Training:   0%|          | 0/36 [00:01<?, ?it/s, loss=0.0708]\u001b[A\n",
            "[Epoch 2/10] Training:   0%|          | 0/36 [00:01<?, ?it/s, loss=0.0893]\u001b[A\n",
            "[Epoch 2/10] Training:   0%|          | 0/36 [00:01<?, ?it/s, loss=0.0683]\u001b[A\n",
            "[Epoch 2/10] Training:   0%|          | 0/36 [00:01<?, ?it/s, loss=0.0528]\u001b[A\n",
            "[Epoch 2/10] Training:   0%|          | 0/36 [00:01<?, ?it/s, loss=0.0601]\u001b[A\n",
            "[Epoch 2/10] Training:   0%|          | 0/36 [00:01<?, ?it/s, loss=0.0732]\u001b[A\n",
            "[Epoch 2/10] Training:   0%|          | 0/36 [00:02<?, ?it/s, loss=0.06]  \u001b[A\n",
            "[Epoch 2/10] Training:   0%|          | 0/36 [00:02<?, ?it/s, loss=0.0996]\u001b[A\n",
            "[Epoch 2/10] Training:   0%|          | 0/36 [00:02<?, ?it/s, loss=0.119] \u001b[A\n",
            "[Epoch 2/10] Training:   0%|          | 0/36 [00:02<?, ?it/s, loss=0.0777]\u001b[A\n",
            "[Epoch 2/10] Training:   0%|          | 0/36 [00:02<?, ?it/s, loss=0.0759]\u001b[A\n",
            "[Epoch 2/10] Training:   0%|          | 0/36 [00:03<?, ?it/s, loss=0.081] \u001b[A\n",
            "[Epoch 2/10] Training:   0%|          | 0/36 [00:03<?, ?it/s, loss=0.0683]\u001b[A\n",
            "[Epoch 2/10] Training:   0%|          | 0/36 [00:03<?, ?it/s, loss=0.0404]\u001b[A\n",
            "[Epoch 2/10] Training:   0%|          | 0/36 [00:03<?, ?it/s, loss=0.0826]\u001b[A\n",
            "[Epoch 2/10] Training:   0%|          | 0/36 [00:03<?, ?it/s, loss=0.103] \u001b[A\n",
            "[Epoch 2/10] Training:   0%|          | 0/36 [00:03<?, ?it/s, loss=0.0896]\u001b[A\n",
            "[Epoch 2/10] Training:   0%|          | 0/36 [00:04<?, ?it/s, loss=0.0753]\u001b[A\n",
            "[Epoch 2/10] Training:   0%|          | 0/36 [00:04<?, ?it/s, loss=0.0866]\u001b[A\n",
            "[Epoch 2/10] Training:   0%|          | 0/36 [00:04<?, ?it/s, loss=0.0667]\u001b[A\n",
            "[Epoch 2/10] Training:   0%|          | 0/36 [00:04<?, ?it/s, loss=0.0838]\u001b[A\n",
            "[Epoch 2/10] Training:   0%|          | 0/36 [00:04<?, ?it/s, loss=0.0871]\u001b[A\n",
            "[Epoch 2/10] Training:   0%|          | 0/36 [00:05<?, ?it/s, loss=0.0789]\u001b[A\n",
            "[Epoch 2/10] Training:   0%|          | 0/36 [00:05<?, ?it/s, loss=0.0998]\u001b[A\n",
            "[Epoch 2/10] Training:   0%|          | 0/36 [00:05<?, ?it/s, loss=0.101] \u001b[A\n",
            "[Epoch 2/10] Training:   0%|          | 0/36 [00:05<?, ?it/s, loss=0.083]\u001b[A\n",
            "[Epoch 2/10] Training:   0%|          | 0/36 [00:05<?, ?it/s, loss=0.0559]\u001b[A\n",
            "[Epoch 2/10] Training:   0%|          | 0/36 [00:05<?, ?it/s, loss=0.0946]\u001b[A\n",
            "[Epoch 2/10] Training:   0%|          | 0/36 [00:06<?, ?it/s, loss=0.079] \u001b[A\n",
            "[Epoch 2/10] Training:   0%|          | 0/36 [00:06<?, ?it/s, loss=0.12] \u001b[A\n",
            "[Epoch 2/10] Training:   0%|          | 0/36 [00:06<?, ?it/s, loss=0.0771]\u001b[A"
          ]
        },
        {
          "output_type": "stream",
          "name": "stdout",
          "text": [
            "[Epoch 2] Train Loss: 0.0812 || Val Loss: 0.0767\n"
          ]
        },
        {
          "output_type": "stream",
          "name": "stderr",
          "text": [
            "[Epoch 3/10] Training:   0%|          | 0/36 [00:00<?, ?it/s]\n",
            "[Epoch 3/10] Training:   0%|          | 0/36 [00:06<?, ?it/s, loss=0.0597]"
          ]
        },
        {
          "output_type": "stream",
          "name": "stdout",
          "text": [
            "[Epoch 3] Train Loss: 0.0695 || Val Loss: 0.1372\n"
          ]
        },
        {
          "output_type": "stream",
          "name": "stderr",
          "text": [
            "\n",
            "[Epoch 4/10] Training:   0%|          | 0/36 [00:00<?, ?it/s]\u001b[A\n",
            "\n",
            "[Epoch 4/10] Training:   0%|          | 0/36 [00:00<?, ?it/s, loss=0.0774]\u001b[A\n",
            "[Epoch 4/10] Training:   0%|          | 0/36 [00:00<?, ?it/s, loss=0.0647]\u001b[A\n",
            "[Epoch 4/10] Training:   0%|          | 0/36 [00:00<?, ?it/s, loss=0.0709]\u001b[A\n",
            "[Epoch 4/10] Training:   0%|          | 0/36 [00:00<?, ?it/s, loss=0.0753]\u001b[A\n",
            "[Epoch 4/10] Training:   0%|          | 0/36 [00:01<?, ?it/s, loss=0.0593]\u001b[A\n",
            "[Epoch 4/10] Training:   0%|          | 0/36 [00:01<?, ?it/s, loss=0.0668]\u001b[A\n",
            "[Epoch 4/10] Training:   0%|          | 0/36 [00:01<?, ?it/s, loss=0.0721]\u001b[A\n",
            "[Epoch 4/10] Training:   0%|          | 0/36 [00:01<?, ?it/s, loss=0.0536]\u001b[A\n",
            "[Epoch 4/10] Training:   0%|          | 0/36 [00:01<?, ?it/s, loss=0.0945]\u001b[A\n",
            "[Epoch 4/10] Training:   0%|          | 0/36 [00:01<?, ?it/s, loss=0.0887]\u001b[A\n",
            "[Epoch 4/10] Training:   0%|          | 0/36 [00:02<?, ?it/s, loss=0.0837]\u001b[A\n",
            "[Epoch 4/10] Training:   0%|          | 0/36 [00:02<?, ?it/s, loss=0.0714]\u001b[A\n",
            "[Epoch 4/10] Training:   0%|          | 0/36 [00:02<?, ?it/s, loss=0.0721]\u001b[A\n",
            "[Epoch 4/10] Training:   0%|          | 0/36 [00:02<?, ?it/s, loss=0.0533]\u001b[A\n",
            "[Epoch 4/10] Training:   0%|          | 0/36 [00:02<?, ?it/s, loss=0.0791]\u001b[A\n",
            "[Epoch 4/10] Training:   0%|          | 0/36 [00:02<?, ?it/s, loss=0.0882]\u001b[A\n",
            "[Epoch 4/10] Training:   0%|          | 0/36 [00:03<?, ?it/s, loss=0.0473]\u001b[A\n",
            "[Epoch 4/10] Training:   0%|          | 0/36 [00:03<?, ?it/s, loss=0.0681]\u001b[A\n",
            "[Epoch 4/10] Training:   0%|          | 0/36 [00:03<?, ?it/s, loss=0.0679]\u001b[A\n",
            "[Epoch 4/10] Training:   0%|          | 0/36 [00:03<?, ?it/s, loss=0.037] \u001b[A\n",
            "[Epoch 4/10] Training:   0%|          | 0/36 [00:03<?, ?it/s, loss=0.0761]\u001b[A\n",
            "[Epoch 4/10] Training:   0%|          | 0/36 [00:04<?, ?it/s, loss=0.108] \u001b[A\n",
            "[Epoch 4/10] Training:   0%|          | 0/36 [00:04<?, ?it/s, loss=0.0716]\u001b[A\n",
            "[Epoch 4/10] Training:   0%|          | 0/36 [00:04<?, ?it/s, loss=0.0652]\u001b[A\n",
            "[Epoch 4/10] Training:   0%|          | 0/36 [00:04<?, ?it/s, loss=0.06]  \u001b[A\n",
            "[Epoch 4/10] Training:   0%|          | 0/36 [00:04<?, ?it/s, loss=0.0716]\u001b[A\n",
            "[Epoch 4/10] Training:   0%|          | 0/36 [00:04<?, ?it/s, loss=0.0782]\u001b[A\n",
            "[Epoch 4/10] Training:   0%|          | 0/36 [00:05<?, ?it/s, loss=0.0393]\u001b[A\n",
            "[Epoch 4/10] Training:   0%|          | 0/36 [00:05<?, ?it/s, loss=0.0733]\u001b[A\n",
            "[Epoch 4/10] Training:   0%|          | 0/36 [00:05<?, ?it/s, loss=0.0559]\u001b[A\n",
            "[Epoch 4/10] Training:   0%|          | 0/36 [00:05<?, ?it/s, loss=0.0914]\u001b[A\n",
            "[Epoch 4/10] Training:   0%|          | 0/36 [00:05<?, ?it/s, loss=0.0831]\u001b[A\n",
            "[Epoch 4/10] Training:   0%|          | 0/36 [00:05<?, ?it/s, loss=0.0569]\u001b[A\n",
            "[Epoch 4/10] Training:   0%|          | 0/36 [00:06<?, ?it/s, loss=0.0813]\u001b[A\n",
            "[Epoch 4/10] Training:   0%|          | 0/36 [00:06<?, ?it/s, loss=0.0773]\u001b[A"
          ]
        },
        {
          "output_type": "stream",
          "name": "stdout",
          "text": [
            "[Epoch 4] Train Loss: 0.0713 || Val Loss: 0.1089\n"
          ]
        },
        {
          "output_type": "stream",
          "name": "stderr",
          "text": [
            "[Epoch 5/10] Training:   0%|          | 0/36 [00:00<?, ?it/s]\n",
            "[Epoch 5/10] Training:   0%|          | 0/36 [00:06<?, ?it/s, loss=0.0524]"
          ]
        },
        {
          "output_type": "stream",
          "name": "stdout",
          "text": [
            "[Epoch 5] Train Loss: 0.0499 || Val Loss: 0.0728\n"
          ]
        },
        {
          "output_type": "stream",
          "name": "stderr",
          "text": [
            "\n",
            "                                                                          \n",
            "[Epoch 6/10] Training:   0%|          | 0/36 [00:00<?, ?it/s, loss=0.0236]\u001b[A\n",
            "[Epoch 6/10] Training:   0%|          | 0/36 [00:00<?, ?it/s, loss=0.024] \u001b[A\n",
            "[Epoch 6/10] Training:   0%|          | 0/36 [00:00<?, ?it/s, loss=0.0153]\u001b[A\n",
            "[Epoch 6/10] Training:   0%|          | 0/36 [00:00<?, ?it/s, loss=0.0407]\u001b[A\n",
            "[Epoch 6/10] Training:   0%|          | 0/36 [00:00<?, ?it/s, loss=0.0648]\u001b[A\n",
            "[Epoch 6/10] Training:   0%|          | 0/36 [00:01<?, ?it/s, loss=0.0511]\u001b[A\n",
            "[Epoch 6/10] Training:   0%|          | 0/36 [00:01<?, ?it/s, loss=0.0531]\u001b[A\n",
            "[Epoch 6/10] Training:   0%|          | 0/36 [00:01<?, ?it/s, loss=0.034] \u001b[A\n",
            "[Epoch 6/10] Training:   0%|          | 0/36 [00:01<?, ?it/s, loss=0.0517]\u001b[A\n",
            "[Epoch 6/10] Training:   0%|          | 0/36 [00:01<?, ?it/s, loss=0.0303]\u001b[A\n",
            "[Epoch 6/10] Training:   0%|          | 0/36 [00:02<?, ?it/s, loss=0.0204]\u001b[A\n",
            "[Epoch 6/10] Training:   0%|          | 0/36 [00:02<?, ?it/s, loss=0.0711]\u001b[A\n",
            "[Epoch 6/10] Training:   0%|          | 0/36 [00:02<?, ?it/s, loss=0.0614]\u001b[A\n",
            "[Epoch 6/10] Training:   0%|          | 0/36 [00:02<?, ?it/s, loss=0.0326]\u001b[A\n",
            "[Epoch 6/10] Training:   0%|          | 0/36 [00:02<?, ?it/s, loss=0.0303]\u001b[A\n",
            "[Epoch 6/10] Training:   0%|          | 0/36 [00:02<?, ?it/s, loss=0.08]  \u001b[A\n",
            "[Epoch 6/10] Training:   0%|          | 0/36 [00:03<?, ?it/s, loss=0.0438]\u001b[A\n",
            "[Epoch 6/10] Training:   0%|          | 0/36 [00:03<?, ?it/s, loss=0.0528]\u001b[A\n",
            "[Epoch 6/10] Training:   0%|          | 0/36 [00:03<?, ?it/s, loss=0.0263]\u001b[A\n",
            "[Epoch 6/10] Training:   0%|          | 0/36 [00:03<?, ?it/s, loss=0.0265]\u001b[A\n",
            "[Epoch 6/10] Training:   0%|          | 0/36 [00:03<?, ?it/s, loss=0.0554]\u001b[A\n",
            "[Epoch 6/10] Training:   0%|          | 0/36 [00:03<?, ?it/s, loss=0.0508]\u001b[A\n",
            "[Epoch 6/10] Training:   0%|          | 0/36 [00:04<?, ?it/s, loss=0.0476]\u001b[A\n",
            "[Epoch 6/10] Training:   0%|          | 0/36 [00:04<?, ?it/s, loss=0.0707]\u001b[A\n",
            "[Epoch 6/10] Training:   0%|          | 0/36 [00:04<?, ?it/s, loss=0.0428]\u001b[A\n",
            "[Epoch 6/10] Training:   0%|          | 0/36 [00:04<?, ?it/s, loss=0.022] \u001b[A\n",
            "[Epoch 6/10] Training:   0%|          | 0/36 [00:04<?, ?it/s, loss=0.0434]\u001b[A\n",
            "[Epoch 6/10] Training:   0%|          | 0/36 [00:05<?, ?it/s, loss=0.0319]\u001b[A\n",
            "[Epoch 6/10] Training:   0%|          | 0/36 [00:05<?, ?it/s, loss=0.0343]\u001b[A\n",
            "[Epoch 6/10] Training:   0%|          | 0/36 [00:05<?, ?it/s, loss=0.0543]\u001b[A\n",
            "[Epoch 6/10] Training:   0%|          | 0/36 [00:05<?, ?it/s, loss=0.0291]\u001b[A\n",
            "[Epoch 6/10] Training:   0%|          | 0/36 [00:05<?, ?it/s, loss=0.0724]\u001b[A\n",
            "[Epoch 6/10] Training:   0%|          | 0/36 [00:05<?, ?it/s, loss=0.0382]\u001b[A\n",
            "[Epoch 6/10] Training:   0%|          | 0/36 [00:06<?, ?it/s, loss=0.0447]\u001b[A\n",
            "[Epoch 6/10] Training:   0%|          | 0/36 [00:06<?, ?it/s, loss=0.0338]\u001b[A\n",
            "[Epoch 6/10] Training:   0%|          | 0/36 [00:06<?, ?it/s, loss=0.0394]\u001b[A"
          ]
        },
        {
          "output_type": "stream",
          "name": "stdout",
          "text": [
            "[Epoch 6] Train Loss: 0.0429 || Val Loss: 0.2661\n"
          ]
        },
        {
          "output_type": "stream",
          "name": "stderr",
          "text": [
            "[Epoch 7/10] Training:   0%|          | 0/36 [00:00<?, ?it/s]\n",
            "[Epoch 7/10] Training:   0%|          | 0/36 [00:06<?, ?it/s, loss=0.0323]"
          ]
        },
        {
          "output_type": "stream",
          "name": "stdout",
          "text": [
            "[Epoch 7] Train Loss: 0.0410 || Val Loss: 0.0824\n"
          ]
        },
        {
          "output_type": "stream",
          "name": "stderr",
          "text": [
            "\n",
            "                                                                          \n",
            "[Epoch 8/10] Training:   0%|          | 0/36 [00:00<?, ?it/s, loss=0.0252]\u001b[A\n",
            "[Epoch 8/10] Training:   0%|          | 0/36 [00:00<?, ?it/s, loss=0.0242]\u001b[A\n",
            "[Epoch 8/10] Training:   0%|          | 0/36 [00:00<?, ?it/s, loss=0.0269]\u001b[A\n",
            "[Epoch 8/10] Training:   0%|          | 0/36 [00:00<?, ?it/s, loss=0.0352]\u001b[A\n",
            "[Epoch 8/10] Training:   0%|          | 0/36 [00:00<?, ?it/s, loss=0.0182]\u001b[A\n",
            "[Epoch 8/10] Training:   0%|          | 0/36 [00:01<?, ?it/s, loss=0.0338]\u001b[A\n",
            "[Epoch 8/10] Training:   0%|          | 0/36 [00:01<?, ?it/s, loss=0.0209]\u001b[A\n",
            "[Epoch 8/10] Training:   0%|          | 0/36 [00:01<?, ?it/s, loss=0.0141]\u001b[A\n",
            "[Epoch 8/10] Training:   0%|          | 0/36 [00:01<?, ?it/s, loss=0.0365]\u001b[A\n",
            "[Epoch 8/10] Training:   0%|          | 0/36 [00:01<?, ?it/s, loss=0.0198]\u001b[A\n",
            "[Epoch 8/10] Training:   0%|          | 0/36 [00:01<?, ?it/s, loss=0.0463]\u001b[A\n",
            "[Epoch 8/10] Training:   0%|          | 0/36 [00:02<?, ?it/s, loss=0.0234]\u001b[A\n",
            "[Epoch 8/10] Training:   0%|          | 0/36 [00:02<?, ?it/s, loss=0.0427]\u001b[A\n",
            "[Epoch 8/10] Training:   0%|          | 0/36 [00:02<?, ?it/s, loss=0.0396]\u001b[A\n",
            "[Epoch 8/10] Training:   0%|          | 0/36 [00:02<?, ?it/s, loss=0.063] \u001b[A\n",
            "[Epoch 8/10] Training:   0%|          | 0/36 [00:02<?, ?it/s, loss=0.0336]\u001b[A\n",
            "[Epoch 8/10] Training:   0%|          | 0/36 [00:02<?, ?it/s, loss=0.065] \u001b[A\n",
            "[Epoch 8/10] Training:   0%|          | 0/36 [00:03<?, ?it/s, loss=0.0237]\u001b[A\n",
            "[Epoch 8/10] Training:   0%|          | 0/36 [00:03<?, ?it/s, loss=0.0186]\u001b[A\n",
            "[Epoch 8/10] Training:   0%|          | 0/36 [00:03<?, ?it/s, loss=0.0246]\u001b[A\n",
            "[Epoch 8/10] Training:   0%|          | 0/36 [00:03<?, ?it/s, loss=0.0319]\u001b[A\n",
            "[Epoch 8/10] Training:   0%|          | 0/36 [00:03<?, ?it/s, loss=0.0306]\u001b[A\n",
            "[Epoch 8/10] Training:   0%|          | 0/36 [00:04<?, ?it/s, loss=0.0397]\u001b[A\n",
            "[Epoch 8/10] Training:   0%|          | 0/36 [00:04<?, ?it/s, loss=0.0584]\u001b[A\n",
            "[Epoch 8/10] Training:   0%|          | 0/36 [00:04<?, ?it/s, loss=0.0225]\u001b[A\n",
            "[Epoch 8/10] Training:   0%|          | 0/36 [00:04<?, ?it/s, loss=0.0473]\u001b[A\n",
            "[Epoch 8/10] Training:   0%|          | 0/36 [00:04<?, ?it/s, loss=0.0477]\u001b[A\n",
            "[Epoch 8/10] Training:   0%|          | 0/36 [00:04<?, ?it/s, loss=0.0269]\u001b[A\n",
            "[Epoch 8/10] Training:   0%|          | 0/36 [00:05<?, ?it/s, loss=0.0333]\u001b[A\n",
            "[Epoch 8/10] Training:   0%|          | 0/36 [00:05<?, ?it/s, loss=0.0304]\u001b[A\n",
            "[Epoch 8/10] Training:   0%|          | 0/36 [00:05<?, ?it/s, loss=0.0761]\u001b[A\n",
            "[Epoch 8/10] Training:   0%|          | 0/36 [00:05<?, ?it/s, loss=0.0287]\u001b[A\n",
            "[Epoch 8/10] Training:   0%|          | 0/36 [00:05<?, ?it/s, loss=0.0196]\u001b[A\n",
            "[Epoch 8/10] Training:   0%|          | 0/36 [00:06<?, ?it/s, loss=0.0669]\u001b[A\n",
            "[Epoch 8/10] Training:   0%|          | 0/36 [00:06<?, ?it/s, loss=0.0246]\u001b[A\n",
            "[Epoch 8/10] Training:   0%|          | 0/36 [00:06<?, ?it/s, loss=0.0305]\u001b[A"
          ]
        },
        {
          "output_type": "stream",
          "name": "stdout",
          "text": [
            "[Epoch 8] Train Loss: 0.0347 || Val Loss: 0.2740\n"
          ]
        },
        {
          "output_type": "stream",
          "name": "stderr",
          "text": [
            "[Epoch 9/10] Training:   0%|          | 0/36 [00:00<?, ?it/s]\n",
            "[Epoch 9/10] Training:   0%|          | 0/36 [00:06<?, ?it/s, loss=0.035] "
          ]
        },
        {
          "output_type": "stream",
          "name": "stdout",
          "text": [
            "[Epoch 9] Train Loss: 0.0266 || Val Loss: 0.1265\n"
          ]
        },
        {
          "output_type": "stream",
          "name": "stderr",
          "text": [
            "\n",
            "                                                                         \n",
            "[Epoch 10/10] Training:   0%|          | 0/36 [00:00<?, ?it/s, loss=0.0257]\u001b[A\n",
            "[Epoch 10/10] Training:   0%|          | 0/36 [00:00<?, ?it/s, loss=0.0143]\u001b[A\n",
            "[Epoch 10/10] Training:   0%|          | 0/36 [00:00<?, ?it/s, loss=0.0208]\u001b[A\n",
            "[Epoch 10/10] Training:   0%|          | 0/36 [00:00<?, ?it/s, loss=0.0174]\u001b[A\n",
            "[Epoch 10/10] Training:   0%|          | 0/36 [00:00<?, ?it/s, loss=0.0222]\u001b[A\n",
            "[Epoch 10/10] Training:   0%|          | 0/36 [00:01<?, ?it/s, loss=0.0173]\u001b[A\n",
            "[Epoch 10/10] Training:   0%|          | 0/36 [00:01<?, ?it/s, loss=0.0285]\u001b[A\n",
            "[Epoch 10/10] Training:   0%|          | 0/36 [00:01<?, ?it/s, loss=0.0341]\u001b[A\n",
            "[Epoch 10/10] Training:   0%|          | 0/36 [00:01<?, ?it/s, loss=0.0233]\u001b[A\n",
            "[Epoch 10/10] Training:   0%|          | 0/36 [00:01<?, ?it/s, loss=0.0201]\u001b[A\n",
            "[Epoch 10/10] Training:   0%|          | 0/36 [00:02<?, ?it/s, loss=0.0141]\u001b[A\n",
            "[Epoch 10/10] Training:   0%|          | 0/36 [00:02<?, ?it/s, loss=0.0218]\u001b[A\n",
            "[Epoch 10/10] Training:   0%|          | 0/36 [00:02<?, ?it/s, loss=0.0208]\u001b[A\n",
            "[Epoch 10/10] Training:   0%|          | 0/36 [00:02<?, ?it/s, loss=0.0278]\u001b[A\n",
            "[Epoch 10/10] Training:   0%|          | 0/36 [00:02<?, ?it/s, loss=0.0236]\u001b[A\n",
            "[Epoch 10/10] Training:   0%|          | 0/36 [00:02<?, ?it/s, loss=0.0173]\u001b[A\n",
            "[Epoch 10/10] Training:   0%|          | 0/36 [00:03<?, ?it/s, loss=0.024] \u001b[A\n",
            "[Epoch 10/10] Training:   0%|          | 0/36 [00:03<?, ?it/s, loss=0.018]\u001b[A\n",
            "[Epoch 10/10] Training:   0%|          | 0/36 [00:03<?, ?it/s, loss=0.0324]\u001b[A\n",
            "[Epoch 10/10] Training:   0%|          | 0/36 [00:03<?, ?it/s, loss=0.0199]\u001b[A\n",
            "[Epoch 10/10] Training:   0%|          | 0/36 [00:03<?, ?it/s, loss=0.00712]\u001b[A\n",
            "[Epoch 10/10] Training:   0%|          | 0/36 [00:04<?, ?it/s, loss=0.0262] \u001b[A\n",
            "[Epoch 10/10] Training:   0%|          | 0/36 [00:04<?, ?it/s, loss=0.018] \u001b[A\n",
            "[Epoch 10/10] Training:   0%|          | 0/36 [00:04<?, ?it/s, loss=0.0408]\u001b[A\n",
            "[Epoch 10/10] Training:   0%|          | 0/36 [00:04<?, ?it/s, loss=0.0277]\u001b[A\n",
            "[Epoch 10/10] Training:   0%|          | 0/36 [00:04<?, ?it/s, loss=0.0194]\u001b[A\n",
            "[Epoch 10/10] Training:   0%|          | 0/36 [00:05<?, ?it/s, loss=0.0218]\u001b[A\n",
            "[Epoch 10/10] Training:   0%|          | 0/36 [00:05<?, ?it/s, loss=0.0195]\u001b[A\n",
            "[Epoch 10/10] Training:   0%|          | 0/36 [00:05<?, ?it/s, loss=0.017] \u001b[A\n",
            "[Epoch 10/10] Training:   0%|          | 0/36 [00:05<?, ?it/s, loss=0.0254]\u001b[A\n",
            "[Epoch 10/10] Training:   0%|          | 0/36 [00:05<?, ?it/s, loss=0.0256]\u001b[A\n",
            "[Epoch 10/10] Training:   0%|          | 0/36 [00:05<?, ?it/s, loss=0.0228]\u001b[A\n",
            "[Epoch 10/10] Training:   0%|          | 0/36 [00:06<?, ?it/s, loss=0.0381]\u001b[A\n",
            "[Epoch 10/10] Training:   0%|          | 0/36 [00:06<?, ?it/s, loss=0.0348]\u001b[A\n",
            "[Epoch 10/10] Training:   0%|          | 0/36 [00:06<?, ?it/s, loss=0.0228]\u001b[A\n",
            "[Epoch 10/10] Training:   0%|          | 0/36 [00:06<?, ?it/s, loss=0.0246]\u001b[A"
          ]
        },
        {
          "output_type": "stream",
          "name": "stdout",
          "text": [
            "[Epoch 10] Train Loss: 0.0232 || Val Loss: 0.0586\n"
          ]
        }
      ]
    }
  ]
}